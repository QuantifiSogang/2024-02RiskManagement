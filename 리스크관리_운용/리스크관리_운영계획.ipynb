{
 "cells": [
  {
   "cell_type": "code",
   "execution_count": 1,
   "metadata": {},
   "outputs": [],
   "source": [
    "import pandas as pd\n",
    "import numpy as np\n",
    "import matplotlib.pyplot as plt\n",
    "import datetime\n",
    "import yfinance as yf\n",
    "from scipy.stats import norm\n",
    "import requests\n",
    "from io import StringIO\n",
    "import seaborn as sns; sns.set()\n",
    "import warnings\n",
    "import yfinance as yf\n",
    "\n",
    "warnings.filterwarnings('ignore')\n",
    "plt.rcParams['figure.figsize'] = (10,6)\n",
    "plt.rcParams['figure.dpi'] = 300\n",
    "plt.rcParams['savefig.dpi'] = 300"
   ]
  },
  {
   "cell_type": "markdown",
   "metadata": {},
   "source": [
    "## 리스크관리 팀의 목표"
   ]
  },
  {
   "cell_type": "markdown",
   "metadata": {},
   "source": [
    "1. 세미나 과정에서 학습한 내용을 바탕으로 현재 펀드가 보유중인 포트폴리오의 리스크를 측정\n",
    "2. 1의 과정을 통해 운용팀의 운용 상황이 너무 높은 리스크를 감수하고 있지 않은지 확인 후 경고하거나 적절한 헤지 방법을 제안\n"
   ]
  },
  {
   "cell_type": "markdown",
   "metadata": {},
   "source": [
    "## 리스크관리 팀의 활동 방법"
   ]
  },
  {
   "cell_type": "markdown",
   "metadata": {},
   "source": [
    "주식과 같은 자산을 다룰 것이므로 신용리스크는 제한적일 것이라 판단하였습니다. 따라서 유동성리스크와 시장리스크를 기반으로 리스크를 측정할 것 입니다.\n",
    "사용하는 모델로는 VaR, CVaR, 유동성 조정 CVaR을 계산할 것이며, 산출하는 방법론은 몬테카를로 시뮬레이션, 역사적 시뮬레이션, 공분산 기법입니다\n",
    "\n",
    "후에 더 발전된 시뮬레이션 방법을 학습하거나 시장미시구조 기반 유동성 리스크 측정 기법을 학습 시 모델을 개선할 예정입니다."
   ]
  },
  {
   "cell_type": "markdown",
   "metadata": {},
   "source": [
    "### 사용 모델 : VaR, CVaR, 유동성 조정 CVaR"
   ]
  },
  {
   "cell_type": "markdown",
   "metadata": {},
   "source": [
    "최대 예상 손실은 주어진 시간과 사전 정의된 신뢰구간 동안 회사가 가지고 있는 자산의 최대 예상 손실을 측정하는데 사용되는 시장리스크 관리 지표입니다. 이는 $$VaR : 1-\\alpha= \\int_{-\\infty} ^{-var} f(x)dx $$\n",
    "\n",
    "을 만족하는 VaR을 의미합니다.\n",
    "\n",
    "\n",
    "최대 손실 평균, ES는 VaR을 초과하는 손실의 조건부 평균입니다. 이는 수익률 $x$의 확률분포함수를 $f(x)$라고 할 때,\n",
    "\n",
    "$$ES = CVar =   -\\frac{1}{1-\\alpha} \\int_{-\\infty} ^{-var} xf(x)dx $$\n",
    "\n",
    "로 계산할 수 있으며, $\\alpha$는 신뢰수준입니다.\n",
    "\n",
    "유동성 조정 CVaR은 유동성 지표를 반영하여 시장리스크와 유동성 리스크 사이의 상호관계를 고려한 리스크지표이며, 다음과 같이 ES 계산식을 수정하여 계산 가능합니다.\n",
    "\n",
    "$$ES_L=ES+\\mathtt{유동성비용} \\newline\n",
    "ES_L=\\frac{1}{1-\\alpha} \\int_{\\alpha}^1 VaR_u \\ du + \\frac{1}{2}P_{last}(\\mu + k\\sigma)$$\n",
    "\n",
    "여기서 $P_{last}$는 주식 종가, $\\mu$는 스프레드 평균, $k$는 두터운 꼬리를 수용하기 위한 스케일링 팩터, $\\sigma$는 스프레드의 표준편차를 의미합니다.\n"
   ]
  },
  {
   "cell_type": "markdown",
   "metadata": {},
   "source": [
    "### 사용 방법론 : 분산-공분산 기법, 역사적 시뮬레이션, 몬테 카를로 시뮬레이션"
   ]
  },
  {
   "cell_type": "markdown",
   "metadata": {},
   "source": [
    "#### 1. Variance-Covariance Method"
   ]
  },
  {
   "cell_type": "markdown",
   "metadata": {},
   "source": [
    "분산 - 공분산 기법은 다른 말로 델타-노말 기법이라고도 합니다. 이는 관측값의 분포(ex : 주식 수익률의 분포, 이자율의 분포, 기초자산의 분포 등)가 정규분포를 따른다는 것과 기초자산과 포트폴리오 가치의 관계가 선형임을 가정하고 VaR을 계산하는 것을 의미합니다. 따라서 이를 모수적 방법이라고 부르기도 합니다. 일반적으로 과거 데이터를 사용해 공분산 행렬, 평균 벡터 등을 계산합니다."
   ]
  },
  {
   "cell_type": "code",
   "execution_count": 3,
   "metadata": {},
   "outputs": [
    {
     "name": "stderr",
     "output_type": "stream",
     "text": [
      "[*********************100%%**********************]  1 of 1 completed\n",
      "[*********************100%%**********************]  1 of 1 completed\n",
      "[*********************100%%**********************]  1 of 1 completed\n"
     ]
    }
   ],
   "source": [
    "symbols = [\"IBM\", \"MSFT\", \"INTC\"]\n",
    "stock3 = []\n",
    "for symbol in symbols:\n",
    "    stock3.append(yf.download(symbol, '2020-01-01', '2020-12-31')['Close'])\n",
    "stocks = pd.DataFrame(stock3).T\n",
    "stocks.columns = symbols"
   ]
  },
  {
   "cell_type": "code",
   "execution_count": 4,
   "metadata": {},
   "outputs": [
    {
     "data": {
      "text/html": [
       "<div>\n",
       "<style scoped>\n",
       "    .dataframe tbody tr th:only-of-type {\n",
       "        vertical-align: middle;\n",
       "    }\n",
       "\n",
       "    .dataframe tbody tr th {\n",
       "        vertical-align: top;\n",
       "    }\n",
       "\n",
       "    .dataframe thead th {\n",
       "        text-align: right;\n",
       "    }\n",
       "</style>\n",
       "<table border=\"1\" class=\"dataframe\">\n",
       "  <thead>\n",
       "    <tr style=\"text-align: right;\">\n",
       "      <th></th>\n",
       "      <th>IBM</th>\n",
       "      <th>MSFT</th>\n",
       "      <th>INTC</th>\n",
       "    </tr>\n",
       "    <tr>\n",
       "      <th>Date</th>\n",
       "      <th></th>\n",
       "      <th></th>\n",
       "      <th></th>\n",
       "    </tr>\n",
       "  </thead>\n",
       "  <tbody>\n",
       "    <tr>\n",
       "      <th>2020-01-02</th>\n",
       "      <td>129.464630</td>\n",
       "      <td>160.619995</td>\n",
       "      <td>60.840000</td>\n",
       "    </tr>\n",
       "    <tr>\n",
       "      <th>2020-01-03</th>\n",
       "      <td>128.432129</td>\n",
       "      <td>158.619995</td>\n",
       "      <td>60.099998</td>\n",
       "    </tr>\n",
       "    <tr>\n",
       "      <th>2020-01-06</th>\n",
       "      <td>128.202682</td>\n",
       "      <td>159.029999</td>\n",
       "      <td>59.930000</td>\n",
       "    </tr>\n",
       "    <tr>\n",
       "      <th>2020-01-07</th>\n",
       "      <td>128.288712</td>\n",
       "      <td>157.580002</td>\n",
       "      <td>58.930000</td>\n",
       "    </tr>\n",
       "    <tr>\n",
       "      <th>2020-01-08</th>\n",
       "      <td>129.359467</td>\n",
       "      <td>160.089996</td>\n",
       "      <td>58.970001</td>\n",
       "    </tr>\n",
       "  </tbody>\n",
       "</table>\n",
       "</div>"
      ],
      "text/plain": [
       "                   IBM        MSFT       INTC\n",
       "Date                                         \n",
       "2020-01-02  129.464630  160.619995  60.840000\n",
       "2020-01-03  128.432129  158.619995  60.099998\n",
       "2020-01-06  128.202682  159.029999  59.930000\n",
       "2020-01-07  128.288712  157.580002  58.930000\n",
       "2020-01-08  129.359467  160.089996  58.970001"
      ]
     },
     "execution_count": 4,
     "metadata": {},
     "output_type": "execute_result"
    }
   ],
   "source": [
    "stocks.head()"
   ]
  },
  {
   "cell_type": "code",
   "execution_count": 5,
   "metadata": {},
   "outputs": [
    {
     "data": {
      "text/html": [
       "<div>\n",
       "<style scoped>\n",
       "    .dataframe tbody tr th:only-of-type {\n",
       "        vertical-align: middle;\n",
       "    }\n",
       "\n",
       "    .dataframe tbody tr th {\n",
       "        vertical-align: top;\n",
       "    }\n",
       "\n",
       "    .dataframe thead th {\n",
       "        text-align: right;\n",
       "    }\n",
       "</style>\n",
       "<table border=\"1\" class=\"dataframe\">\n",
       "  <thead>\n",
       "    <tr style=\"text-align: right;\">\n",
       "      <th></th>\n",
       "      <th>IBM</th>\n",
       "      <th>MSFT</th>\n",
       "      <th>INTC</th>\n",
       "    </tr>\n",
       "    <tr>\n",
       "      <th>Date</th>\n",
       "      <th></th>\n",
       "      <th></th>\n",
       "      <th></th>\n",
       "    </tr>\n",
       "  </thead>\n",
       "  <tbody>\n",
       "    <tr>\n",
       "      <th>2020-01-03</th>\n",
       "      <td>-0.008007</td>\n",
       "      <td>-0.012530</td>\n",
       "      <td>-0.012238</td>\n",
       "    </tr>\n",
       "    <tr>\n",
       "      <th>2020-01-06</th>\n",
       "      <td>-0.001788</td>\n",
       "      <td>0.002581</td>\n",
       "      <td>-0.002833</td>\n",
       "    </tr>\n",
       "    <tr>\n",
       "      <th>2020-01-07</th>\n",
       "      <td>0.000671</td>\n",
       "      <td>-0.009160</td>\n",
       "      <td>-0.016827</td>\n",
       "    </tr>\n",
       "    <tr>\n",
       "      <th>2020-01-08</th>\n",
       "      <td>0.008312</td>\n",
       "      <td>0.015803</td>\n",
       "      <td>0.000679</td>\n",
       "    </tr>\n",
       "    <tr>\n",
       "      <th>2020-01-09</th>\n",
       "      <td>0.010513</td>\n",
       "      <td>0.012416</td>\n",
       "      <td>0.005580</td>\n",
       "    </tr>\n",
       "    <tr>\n",
       "      <th>...</th>\n",
       "      <td>...</td>\n",
       "      <td>...</td>\n",
       "      <td>...</td>\n",
       "    </tr>\n",
       "    <tr>\n",
       "      <th>2020-12-23</th>\n",
       "      <td>0.002343</td>\n",
       "      <td>-0.013125</td>\n",
       "      <td>0.008626</td>\n",
       "    </tr>\n",
       "    <tr>\n",
       "      <th>2020-12-24</th>\n",
       "      <td>0.006356</td>\n",
       "      <td>0.007797</td>\n",
       "      <td>0.010679</td>\n",
       "    </tr>\n",
       "    <tr>\n",
       "      <th>2020-12-28</th>\n",
       "      <td>0.001042</td>\n",
       "      <td>0.009873</td>\n",
       "      <td>0.000000</td>\n",
       "    </tr>\n",
       "    <tr>\n",
       "      <th>2020-12-29</th>\n",
       "      <td>-0.008205</td>\n",
       "      <td>-0.003607</td>\n",
       "      <td>0.048112</td>\n",
       "    </tr>\n",
       "    <tr>\n",
       "      <th>2020-12-30</th>\n",
       "      <td>0.004352</td>\n",
       "      <td>-0.011081</td>\n",
       "      <td>-0.013043</td>\n",
       "    </tr>\n",
       "  </tbody>\n",
       "</table>\n",
       "<p>251 rows × 3 columns</p>\n",
       "</div>"
      ],
      "text/plain": [
       "                 IBM      MSFT      INTC\n",
       "Date                                    \n",
       "2020-01-03 -0.008007 -0.012530 -0.012238\n",
       "2020-01-06 -0.001788  0.002581 -0.002833\n",
       "2020-01-07  0.000671 -0.009160 -0.016827\n",
       "2020-01-08  0.008312  0.015803  0.000679\n",
       "2020-01-09  0.010513  0.012416  0.005580\n",
       "...              ...       ...       ...\n",
       "2020-12-23  0.002343 -0.013125  0.008626\n",
       "2020-12-24  0.006356  0.007797  0.010679\n",
       "2020-12-28  0.001042  0.009873  0.000000\n",
       "2020-12-29 -0.008205 -0.003607  0.048112\n",
       "2020-12-30  0.004352 -0.011081 -0.013043\n",
       "\n",
       "[251 rows x 3 columns]"
      ]
     },
     "execution_count": 5,
     "metadata": {},
     "output_type": "execute_result"
    }
   ],
   "source": [
    "stocks_returns = (np.log(stocks) - np.log(stocks.shift(1))).dropna()\n",
    "stocks_returns"
   ]
  },
  {
   "cell_type": "code",
   "execution_count": 6,
   "metadata": {},
   "outputs": [],
   "source": [
    "stocks_returns_mean = stocks_returns.mean()\n",
    "weights  = [1/3]*3\n",
    "weights /= np.sum(weights)\n",
    "cov_var = stocks_returns.cov()\n",
    "port_std = np.sqrt(weights.T.dot(cov_var).dot(weights))\n",
    "stock_cov=np.diag(cov_var)   # 각 종목 분산 데이터"
   ]
  },
  {
   "cell_type": "code",
   "execution_count": 7,
   "metadata": {},
   "outputs": [],
   "source": [
    "port_return_mean = np.dot(stocks_returns, weights).mean()"
   ]
  },
  {
   "cell_type": "code",
   "execution_count": 8,
   "metadata": {},
   "outputs": [],
   "source": [
    "initial_investment = 1e6   # 원금 100만 달러에 대해 동일비중 포트폴리오와 각 종목에만 투자하는 세가지 포트폴리오 비교\n",
    "conf_level = 0.95"
   ]
  },
  {
   "cell_type": "code",
   "execution_count": 9,
   "metadata": {},
   "outputs": [],
   "source": [
    "def VaR_parametric(initial_investment, conf_level, cov):\n",
    "    alpha = norm.ppf(1 - conf_level, stocks_returns_mean, port_std)\n",
    "    for i, j in zip(stocks.columns, range(len(stocks.columns))):\n",
    "        VaR_param = -initial_investment * (alpha)[j]\n",
    "        print(\"Parametric VaR result for {} is {} \".format(i, VaR_param))\n",
    "    VaR_param = -initial_investment * (alpha)\n",
    "    print('--' * 25)\n",
    "    return VaR_param"
   ]
  },
  {
   "cell_type": "code",
   "execution_count": 10,
   "metadata": {},
   "outputs": [
    {
     "name": "stdout",
     "output_type": "stream",
     "text": [
      "Parametric VaR result for IBM is 42971.68071825573 \n",
      "Parametric VaR result for MSFT is 41347.956059765645 \n",
      "Parametric VaR result for INTC is 43514.23432115943 \n",
      "--------------------------------------------------\n",
      "Parametric VaR result for equal_weight_portfolio is 42611.290366393514 \n"
     ]
    }
   ],
   "source": [
    "VaR_param = VaR_parametric(initial_investment, conf_level, stock_cov)\n",
    "\n",
    "alpha = norm.ppf(1 - conf_level, port_return_mean, port_std)\n",
    "VaR_param_port = (initial_investment - initial_investment * (1 + alpha))\n",
    "print(\"Parametric VaR result for {} is {} \".format(\"equal_weight_portfolio\", VaR_param_port))"
   ]
  },
  {
   "cell_type": "markdown",
   "metadata": {},
   "source": [
    "#### 2.Historical Simulation VaR"
   ]
  },
  {
   "cell_type": "markdown",
   "metadata": {},
   "source": [
    "역사적 시뮬레이션 방법은 분포를 가정하지 않는다는 점에서 비모수적 방법이라고도 불립니다. 역사적 시뮬레이션은 과거 관측치에서 해당 신뢰구간에 맞는 백분위수를 찾은 뒤, 이 백분위수에 초기 투자를 곱하는 방법으로 VaR을 계산합니다. 현재 비즈니스 사이클을 고려하여 과거 3년 데이터를 바탕으로 역사적 시뮬레이션을 수행할 예정입니다.\n"
   ]
  },
  {
   "cell_type": "code",
   "execution_count": 12,
   "metadata": {},
   "outputs": [],
   "source": [
    "def VaR_historical(initial_investment, conf_level):\n",
    "    Hist_percentile95 = []\n",
    "    for i, j in zip(stocks_returns.columns,\n",
    "                    range(len(stocks_returns.columns))):\n",
    "        Hist_percentile95.append(np.percentile(stocks_returns.loc[:, i],\n",
    "                                             5))\n",
    "        print(\"Based on historical values 95% of {}'s return is {:.4f}\"\n",
    "             .format(i, Hist_percentile95[j]))\n",
    "        VaR_historical = (initial_investment - initial_investment *\n",
    "                         (1 + Hist_percentile95[j]))\n",
    "        print(\"Historical VaR result for {} is {:.2f} \"\n",
    "             .format(i, VaR_historical))\n",
    "        print('--' * 35)"
   ]
  },
  {
   "cell_type": "code",
   "execution_count": 13,
   "metadata": {
    "scrolled": true
   },
   "outputs": [
    {
     "name": "stdout",
     "output_type": "stream",
     "text": [
      "Based on historical values 95% of IBM's return is -0.0372\n",
      "Historical VaR result for IBM is 37201.07 \n",
      "----------------------------------------------------------------------\n",
      "Based on historical values 95% of MSFT's return is -0.0426\n",
      "Historical VaR result for MSFT is 42622.24 \n",
      "----------------------------------------------------------------------\n",
      "Based on historical values 95% of INTC's return is -0.0425\n",
      "Historical VaR result for INTC is 42509.24 \n",
      "----------------------------------------------------------------------\n"
     ]
    }
   ],
   "source": [
    "VaR_historical(initial_investment,conf_level)"
   ]
  },
  {
   "cell_type": "markdown",
   "metadata": {},
   "source": [
    "#### 3. Monte Carlo VaR"
   ]
  },
  {
   "cell_type": "markdown",
   "metadata": {},
   "source": [
    "몬테 카를로 시뮬레이션을 위해 사용 계획 중인 주가 분포 시나리오는 기하브라운 운동(GBM)입니다. 즉\n",
    "\n",
    "$$ {dS \\over S}  = rdt + \\sigma dW $$\n",
    "\n",
    "의 확률과정을 사용할 예정입니다. 이때 $r$은 무위험이자율, $\\sigma$는 주가의 $dt$시간 동안의 변동성, $dW$는 표준정규분포를 따르는 확률변수이다.\n",
    "\n",
    "또한 포트폴리오 자산 간에는 상관관계가 존재하므로, 상관관계를 가지는 여러 개의 자산을 분석할 때에는 단순히 두 개의 기하브라운 식을 구축하는 것으로는 충분하지 않습니다. 이를 해결하기 위해 촐레츠키 분해를 적용해 몬테 카를로 시뮬레이션을 수행할 에정입니다.\n",
    "\n"
   ]
  },
  {
   "cell_type": "code",
   "execution_count": 14,
   "metadata": {},
   "outputs": [],
   "source": [
    "import scipy\n",
    "\n",
    "T = 1\n",
    "days = 250\n",
    "nsimulation = 300000\n",
    "r=0.01\n",
    "stock_sigma=np.sqrt(stock_cov)  # 각 종목의 일별 변동성\n",
    "\n",
    "L=scipy.linalg.cholesky(np.corrcoef([stocks_returns.iloc[:, 0], stocks_returns.iloc[:, 1], stocks_returns.iloc[:, 2]]), lower=True)\n",
    "\n",
    "Normal1 = np.random.normal(size=(T*days, nsimulation))\n",
    "Normal2 = np.random.normal(size=(T*days, nsimulation))\n",
    "Normal3 = np.random.normal(size=(T*days, nsimulation))\n",
    "\n",
    "nor1 = Normal1.reshape(1,T*days*nsimulation)\n",
    "nor2 = Normal2.reshape(1,T*days*nsimulation)\n",
    "nor3 = Normal3.reshape(1,T*days*nsimulation)\n",
    "\n",
    "dz=[]\n",
    "for i in range(len(nor1)):\n",
    "    dz.append(np.dot(L, np.array([nor1[i], nor2[i], nor3[i]])))\n",
    "\n",
    "dz=np.array(dz[0])\n",
    "\n",
    "cor1 = dz[0, :]\n",
    "cor2 = dz[1, :]\n",
    "cor3 = dz[2, :]\n",
    "\n",
    "Normal1 = cor1.reshape(T*days,nsimulation)\n",
    "Normal2 = cor2.reshape(T*days,nsimulation)\n",
    "Normal3 = cor3.reshape(T*days,nsimulation)\n",
    "\n",
    "\n",
    "dt = 1/250\n",
    "logds1 = r*dt + Normal1 * stock_sigma[0]\n",
    "logds2 = r*dt + Normal2 * stock_sigma[1]\n",
    "logds3 = r*dt + Normal3 * stock_sigma[2]\n",
    "\n",
    "path1 = np.zeros((T*days+1,nsimulation))\n",
    "path2 = np.zeros((T*days+1,nsimulation))\n",
    "path3= np.zeros((T*days+1,nsimulation))\n",
    "\n",
    "path1[0] = 129.46463\n",
    "path2[0] = 160.619995\n",
    "path3[0] = 60.840000\n",
    "\n",
    "for i in range(1,T*days+1):\n",
    "    path1[i] = path1[i-1]*(1+logds1[i-1])  # 이미 일별 변동성을 계산했으므로 np.sqrt(dt)를 안곱해줘도 됨!\n",
    "    path2[i] = path2[i-1]*(1+logds2[i-1])\n",
    "    path3[i]= path3[i-1]*(1+logds3[i-1])\n",
    "\n",
    "path1=pd.DataFrame(path1)\n",
    "IBM_return=(np.log(path1)-np.log(path1.shift(1))).dropna()\n",
    "path2=pd.DataFrame(path2)\n",
    "MSFT_return=(np.log(path2)-np.log(path2.shift(1))).dropna()\n",
    "path3=pd.DataFrame(path3)\n",
    "INTC_return=(np.log(path3)-np.log(path3.shift(1))).dropna()\n"
   ]
  },
  {
   "cell_type": "code",
   "execution_count": 15,
   "metadata": {},
   "outputs": [
    {
     "data": {
      "text/html": [
       "<div>\n",
       "<style scoped>\n",
       "    .dataframe tbody tr th:only-of-type {\n",
       "        vertical-align: middle;\n",
       "    }\n",
       "\n",
       "    .dataframe tbody tr th {\n",
       "        vertical-align: top;\n",
       "    }\n",
       "\n",
       "    .dataframe thead th {\n",
       "        text-align: right;\n",
       "    }\n",
       "</style>\n",
       "<table border=\"1\" class=\"dataframe\">\n",
       "  <thead>\n",
       "    <tr style=\"text-align: right;\">\n",
       "      <th></th>\n",
       "      <th>IBM</th>\n",
       "      <th>MSFT</th>\n",
       "      <th>INTC</th>\n",
       "    </tr>\n",
       "  </thead>\n",
       "  <tbody>\n",
       "    <tr>\n",
       "      <th>0</th>\n",
       "      <td>-0.015379</td>\n",
       "      <td>0.012673</td>\n",
       "      <td>0.032066</td>\n",
       "    </tr>\n",
       "    <tr>\n",
       "      <th>1</th>\n",
       "      <td>-0.018095</td>\n",
       "      <td>-0.015683</td>\n",
       "      <td>-0.009330</td>\n",
       "    </tr>\n",
       "    <tr>\n",
       "      <th>2</th>\n",
       "      <td>0.040375</td>\n",
       "      <td>0.038499</td>\n",
       "      <td>0.048700</td>\n",
       "    </tr>\n",
       "    <tr>\n",
       "      <th>3</th>\n",
       "      <td>0.006050</td>\n",
       "      <td>-0.039963</td>\n",
       "      <td>-0.017133</td>\n",
       "    </tr>\n",
       "    <tr>\n",
       "      <th>4</th>\n",
       "      <td>-0.013042</td>\n",
       "      <td>-0.003907</td>\n",
       "      <td>-0.027912</td>\n",
       "    </tr>\n",
       "    <tr>\n",
       "      <th>...</th>\n",
       "      <td>...</td>\n",
       "      <td>...</td>\n",
       "      <td>...</td>\n",
       "    </tr>\n",
       "    <tr>\n",
       "      <th>74999995</th>\n",
       "      <td>-0.061748</td>\n",
       "      <td>0.012675</td>\n",
       "      <td>-0.002048</td>\n",
       "    </tr>\n",
       "    <tr>\n",
       "      <th>74999996</th>\n",
       "      <td>-0.005182</td>\n",
       "      <td>0.003595</td>\n",
       "      <td>0.019544</td>\n",
       "    </tr>\n",
       "    <tr>\n",
       "      <th>74999997</th>\n",
       "      <td>-0.029439</td>\n",
       "      <td>-0.010495</td>\n",
       "      <td>-0.026492</td>\n",
       "    </tr>\n",
       "    <tr>\n",
       "      <th>74999998</th>\n",
       "      <td>0.018201</td>\n",
       "      <td>0.005579</td>\n",
       "      <td>0.012691</td>\n",
       "    </tr>\n",
       "    <tr>\n",
       "      <th>74999999</th>\n",
       "      <td>0.051530</td>\n",
       "      <td>0.056524</td>\n",
       "      <td>0.045052</td>\n",
       "    </tr>\n",
       "  </tbody>\n",
       "</table>\n",
       "<p>75000000 rows × 3 columns</p>\n",
       "</div>"
      ],
      "text/plain": [
       "               IBM      MSFT      INTC\n",
       "0        -0.015379  0.012673  0.032066\n",
       "1        -0.018095 -0.015683 -0.009330\n",
       "2         0.040375  0.038499  0.048700\n",
       "3         0.006050 -0.039963 -0.017133\n",
       "4        -0.013042 -0.003907 -0.027912\n",
       "...            ...       ...       ...\n",
       "74999995 -0.061748  0.012675 -0.002048\n",
       "74999996 -0.005182  0.003595  0.019544\n",
       "74999997 -0.029439 -0.010495 -0.026492\n",
       "74999998  0.018201  0.005579  0.012691\n",
       "74999999  0.051530  0.056524  0.045052\n",
       "\n",
       "[75000000 rows x 3 columns]"
      ]
     },
     "execution_count": 15,
     "metadata": {},
     "output_type": "execute_result"
    }
   ],
   "source": [
    "sim_return=pd.concat( [pd.Series(np.array(IBM_return).flatten()), pd.Series(np.array(MSFT_return).flatten()), pd.Series(np.array(INTC_return).flatten())], axis=1)\n",
    "sim_return.columns=stocks.columns\n",
    "sim_return"
   ]
  },
  {
   "cell_type": "code",
   "execution_count": 16,
   "metadata": {},
   "outputs": [],
   "source": [
    "def MC_VaR(initial_investment, conf_level):\n",
    "    MC_percentile95 = []\n",
    "    for i, j in zip(sim_return.columns, range(len(sim_return.columns))):\n",
    "        MC_percentile95.append(np.percentile(sim_return.loc[:, i], 5))\n",
    "        print(\"Based on simulation 95% of {}'s return is {:.4f}\"\n",
    "              .format(i, MC_percentile95[j]))\n",
    "        VaR_MC = (initial_investment - initial_investment * \n",
    "                  (1 + MC_percentile95[j]))\n",
    "        print(\"Simulation VaR result for {} is {:.2f} \"\n",
    "              .format(i, VaR_MC))\n",
    "        print('--' * 35)"
   ]
  },
  {
   "cell_type": "code",
   "execution_count": 17,
   "metadata": {},
   "outputs": [
    {
     "name": "stdout",
     "output_type": "stream",
     "text": [
      "Based on simulation 95% of IBM's return is -0.0436\n",
      "Simulation VaR result for IBM is 43604.26 \n",
      "----------------------------------------------------------------------\n",
      "Based on simulation 95% of MSFT's return is -0.0468\n",
      "Simulation VaR result for MSFT is 46776.47 \n",
      "----------------------------------------------------------------------\n",
      "Based on simulation 95% of INTC's return is -0.0576\n",
      "Simulation VaR result for INTC is 57636.88 \n",
      "----------------------------------------------------------------------\n"
     ]
    }
   ],
   "source": [
    "MC_VaR(initial_investment, conf_level)"
   ]
  }
 ],
 "metadata": {
  "kernelspec": {
   "display_name": "Python 3",
   "language": "python",
   "name": "python3"
  },
  "language_info": {
   "codemirror_mode": {
    "name": "ipython",
    "version": 3
   },
   "file_extension": ".py",
   "mimetype": "text/x-python",
   "name": "python",
   "nbconvert_exporter": "python",
   "pygments_lexer": "ipython3",
   "version": "3.11.7"
  },
  "latex_envs": {
   "LaTeX_envs_menu_present": true,
   "autoclose": false,
   "autocomplete": true,
   "bibliofile": "biblio.bib",
   "cite_by": "apalike",
   "current_citInitial": 1,
   "eqLabelWithNumbers": true,
   "eqNumInitial": 1,
   "hotkeys": {
    "equation": "Ctrl-E",
    "itemize": "Ctrl-I"
   },
   "labels_anchors": false,
   "latex_user_defs": false,
   "report_style_numbering": false,
   "user_envs_cfg": false
  },
  "toc": {
   "base_numbering": 1,
   "nav_menu": {},
   "number_sections": false,
   "sideBar": true,
   "skip_h1_title": false,
   "title_cell": "Table of Contents",
   "title_sidebar": "Contents",
   "toc_cell": false,
   "toc_position": {},
   "toc_section_display": true,
   "toc_window_display": false
  }
 },
 "nbformat": 4,
 "nbformat_minor": 4
}
