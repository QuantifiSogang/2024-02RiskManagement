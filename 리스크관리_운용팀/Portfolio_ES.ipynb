{
 "cells": [
  {
   "cell_type": "code",
   "execution_count": 1,
   "metadata": {},
   "outputs": [],
   "source": [
    "import numpy as np\n",
    "import pandas as pd\n",
    "import yfinance as yf\n",
    "from scipy.stats import norm\n",
    "from scipy.linalg import cholesky"
   ]
  },
  {
   "cell_type": "code",
   "execution_count": 2,
   "metadata": {},
   "outputs": [],
   "source": [
    "def get_returns_data(tickers, start_date, end_date):\n",
    "    \"\"\"\n",
    "    주식 데이터를 다운로드하고 로그 수익률을 계산하는 함수\n",
    "    \"\"\"\n",
    "    returns_data = []\n",
    "    for ticker in tickers:\n",
    "        df = yf.download(ticker, start=start_date, end=end_date, progress=False)\n",
    "        df[\"Log_Returns\"] = np.log(df[\"Close\"] / df[\"Close\"].shift(1))\n",
    "        returns_data.append(df[\"Log_Returns\"].dropna())\n",
    "    returns_df = pd.concat(returns_data, axis=1, keys=tickers)\n",
    "    return returns_df"
   ]
  },
  {
   "cell_type": "code",
   "execution_count": 3,
   "metadata": {},
   "outputs": [],
   "source": [
    "def cholesky_decomposition(returns_dataframe):\n",
    "    \"\"\"\n",
    "    공분산 행렬을 계산하고 촐레츠키 분해를 수행하는 함수\n",
    "    \"\"\"\n",
    "    cov_matrix = returns_dataframe.cov().values\n",
    "    cholesky_matrix = cholesky(cov_matrix, lower=True)\n",
    "    return cholesky_matrix"
   ]
  },
  {
   "cell_type": "code",
   "execution_count": 4,
   "metadata": {},
   "outputs": [],
   "source": [
    "def monte_carlo_simulation(cholesky_matrix, num_assets, num_simulations, time_horizon):\n",
    "    \"\"\"\n",
    "    몬테카를로 시뮬레이션을 수행하는 함수\n",
    "    \"\"\"\n",
    "    random_normals = np.random.normal(size=(num_assets, num_simulations, time_horizon))\n",
    "    random_normals_reshaped = random_normals.reshape(num_assets, -1)\n",
    "\n",
    "    correlated_normals_reshaped = np.dot(cholesky_matrix, random_normals_reshaped)\n",
    "    correlated_normals = correlated_normals_reshaped.reshape(num_assets, num_simulations, time_horizon)\n",
    "    \n",
    "    return correlated_normals"
   ]
  },
  {
   "cell_type": "code",
   "execution_count": 5,
   "metadata": {},
   "outputs": [],
   "source": [
    "def calculate_category_es(tickers, returns_dataframe, correlated_normals, portfolio_data, category_map, dt, time_horizon, conf_level):\n",
    "    \"\"\"\n",
    "    카테고리별 ES를 계산하는 함수\n",
    "    \"\"\"\n",
    "    categories_simulated_returns = {category: [] for category in category_map.values()}\n",
    "    num_simulations = correlated_normals.shape[1]\n",
    "\n",
    "    for i, ticker in enumerate(tickers):\n",
    "        mu = returns_dataframe[ticker].mean()\n",
    "        sigma = returns_dataframe[ticker].std()\n",
    "        liquidity_horizon = portfolio_data[ticker][0]\n",
    "        category = category_map[liquidity_horizon]\n",
    "\n",
    "        simulated_paths = np.exp((mu - 0.5 * sigma**2) * dt + sigma * np.sqrt(dt) * correlated_normals[i]).prod(axis=1) - 1\n",
    "        categories_simulated_returns[category].extend(simulated_paths)\n",
    "\n",
    "    es_values = []\n",
    "    for category in sorted(categories_simulated_returns.keys()):\n",
    "        returns_list = categories_simulated_returns[category]\n",
    "\n",
    "        if len(returns_list) == 0:\n",
    "            es_values.append(0)\n",
    "            continue\n",
    "\n",
    "        sorted_losses = np.sort(returns_list)\n",
    "        cutoff_index = int(num_simulations * (1 - conf_level))\n",
    "        \n",
    "        if cutoff_index <= len(sorted_losses):\n",
    "            es_category = -np.nanmean(sorted_losses[:cutoff_index])\n",
    "        else:\n",
    "            es_category = 0\n",
    "        \n",
    "        if np.isnan(es_category):\n",
    "            es_category = 0\n",
    "        \n",
    "        es_values.append(es_category)\n",
    "    \n",
    "    return es_values"
   ]
  },
  {
   "cell_type": "code",
   "execution_count": 6,
   "metadata": {},
   "outputs": [],
   "source": [
    "def calculate_portfolio_es(es_values, category_map):\n",
    "    \"\"\"\n",
    "    포트폴리오 ES를 계산하는 함수\n",
    "    \"\"\"\n",
    "    category_to_liquidity_horizon = {value: key for key, value in category_map.items()}\n",
    "    sum_value = 0\n",
    "    for i in range(1, 5):\n",
    "        lh_diff = max(0, category_to_liquidity_horizon.get(i+1, 0) - category_to_liquidity_horizon.get(i, 0))\n",
    "        es_value = es_values[i-1]\n",
    "        sum_value += (es_value * np.sqrt(lh_diff))**2\n",
    "    final_es = np.sqrt(sum_value)\n",
    "    return final_es"
   ]
  },
  {
   "cell_type": "code",
   "execution_count": 7,
   "metadata": {},
   "outputs": [],
   "source": [
    "def main():\n",
    "    # 포트폴리오 데이터 입력\n",
    "    portfolio_data = {\n",
    "        \"SPY\": [10, 0.3804], \"AAPL\": [10, 0.1624], \"GOOG\": [10, 0.1002], \"XLF\": [10, 0.0628],\n",
    "        \"XLV\": [10, 0.0576], \"XLE\": [10, 0.0505], \"IBIT\": [60, 0.0421], \"TSLA\": [10, 0.0374],\n",
    "        \"SOXX\": [10, 0.0338], \"XLI\": [10, 0.0287], \"XLP\": [10, 0.0242], \"NFTY\": [20, 0.0200]\n",
    "    }\n",
    "    \n",
    "    category_map = {10: 1, 20: 2, 60: 3, 120: 4, 250: 5}\n",
    "    conf_level = 0.975\n",
    "    start_date = \"2024-01-01\"\n",
    "    end_date = \"2024-12-31\"\n",
    "    num_simulations = 10000\n",
    "    time_horizon = 10\n",
    "    dt = 1 / 252\n",
    "\n",
    "    tickers = list(portfolio_data.keys())\n",
    "    returns_df = get_returns_data(tickers, start_date, end_date)\n",
    "    cholesky_matrix = cholesky_decomposition(returns_df)\n",
    "    correlated_normals = monte_carlo_simulation(cholesky_matrix, len(tickers), num_simulations, time_horizon)\n",
    "    es_values = calculate_category_es(tickers, returns_df, correlated_normals, portfolio_data, category_map, dt, time_horizon, conf_level)\n",
    "    es = calculate_portfolio_es(es_values, category_map)\n",
    "\n",
    "    print(f\"Portfolio Expected Shortfall is {es:.4f} in 97.5% confidence level\")"
   ]
  },
  {
   "cell_type": "code",
   "execution_count": 8,
   "metadata": {},
   "outputs": [
    {
     "name": "stdout",
     "output_type": "stream",
     "text": [
      "Portfolio Expected Shortfall is 0.0044 in 97.5% confidence level\n"
     ]
    }
   ],
   "source": [
    "if __name__ == \"__main__\":\n",
    "    main()"
   ]
  }
 ],
 "metadata": {
  "kernelspec": {
   "display_name": "quantifi_risk",
   "language": "python",
   "name": "python3"
  },
  "language_info": {
   "codemirror_mode": {
    "name": "ipython",
    "version": 3
   },
   "file_extension": ".py",
   "mimetype": "text/x-python",
   "name": "python",
   "nbconvert_exporter": "python",
   "pygments_lexer": "ipython3",
   "version": "3.12.3"
  }
 },
 "nbformat": 4,
 "nbformat_minor": 2
}
